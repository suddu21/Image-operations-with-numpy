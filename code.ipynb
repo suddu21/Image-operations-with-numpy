{
 "cells": [
  {
   "cell_type": "code",
   "execution_count": null,
   "metadata": {},
   "outputs": [],
   "source": [
    "import pandas as pd\n",
    "import matplotlib.pyplot as plt\n",
    "import numpy as np"
   ]
  },
  {
   "cell_type": "code",
   "execution_count": null,
   "metadata": {},
   "outputs": [],
   "source": [
    "coords = pd.read_csv('Default Dataset.csv', names=['X','Y'])\n",
    "coords.head()"
   ]
  },
  {
   "cell_type": "code",
   "execution_count": null,
   "metadata": {},
   "outputs": [],
   "source": [
    "coords.describe()"
   ]
  },
  {
   "cell_type": "code",
   "execution_count": null,
   "metadata": {},
   "outputs": [],
   "source": [
    "img = plt.figure()\n",
    "ax = img.add_subplot()\n",
    "ax.scatter(coords['X'], coords['Y'], marker='.')"
   ]
  },
  {
   "cell_type": "code",
   "execution_count": null,
   "metadata": {},
   "outputs": [],
   "source": [
    "coords = coords.loc[(coords['X']<1000) & (coords['Y']<1000) & (300<coords['X']) & (250<coords['Y'])]\n",
    "coords['X'] = coords['X'] - 300\n",
    "coords['Y'] = coords['Y'] - 250"
   ]
  },
  {
   "cell_type": "code",
   "execution_count": null,
   "metadata": {},
   "outputs": [],
   "source": [
    "img = plt.figure()\n",
    "ax = img.add_subplot()\n",
    "ax.scatter(coords['X'], coords['Y'])"
   ]
  },
  {
   "cell_type": "code",
   "execution_count": null,
   "metadata": {},
   "outputs": [],
   "source": [
    "coords.describe()"
   ]
  },
  {
   "cell_type": "code",
   "execution_count": null,
   "metadata": {},
   "outputs": [],
   "source": [
    "discrete = coords.apply(lambda col: pd.cut(col, bins=1000, labels=False, include_lowest=True))\n",
    "#print(discrete)"
   ]
  },
  {
   "cell_type": "code",
   "execution_count": null,
   "metadata": {},
   "outputs": [],
   "source": [
    "discrete.plot.scatter(x='X',y='Y')"
   ]
  },
  {
   "cell_type": "code",
   "execution_count": null,
   "metadata": {},
   "outputs": [],
   "source": [
    "img = np.zeros(shape=(1000,1000))\n",
    "for _,val in discrete.iterrows():\n",
    "    img[val[0]][val[1]]=1\n",
    "#print(img)"
   ]
  },
  {
   "cell_type": "code",
   "execution_count": null,
   "metadata": {},
   "outputs": [],
   "source": [
    "coordinates = np.argwhere(img==1)\n",
    "#print(coordinates)"
   ]
  },
  {
   "cell_type": "code",
   "execution_count": null,
   "metadata": {},
   "outputs": [],
   "source": [
    "\"\"\"#Reference image\n",
    "\n",
    "given_img = pd.DataFrame(coordinates, columns=['X','Y'])\n",
    "given_img.plot.scatter('X','Y')\"\"\""
   ]
  },
  {
   "cell_type": "code",
   "execution_count": null,
   "metadata": {},
   "outputs": [],
   "source": [
    "\"\"\"#Reference 90degree clockwise rotated image\n",
    "\n",
    "rot_img = np.rot90(img, k=-1)\n",
    "rot_coordinates = np.argwhere(rot_img==1)\n",
    "#plt.imshow(rot_img, cmap='gray')\n",
    "rot_plot = pd.DataFrame(rot_coordinates, columns=['X','Y'])\n",
    "rot_plot.plot.scatter('X','Y')\"\"\""
   ]
  },
  {
   "cell_type": "code",
   "execution_count": null,
   "metadata": {},
   "outputs": [],
   "source": [
    "\"\"\"#Reference horizontally flipped image\n",
    "\n",
    "flipped_img = np.flipud(img)\n",
    "#plt.imshow(flipped_img, cmap='gray')\n",
    "flip_coordinates = np.argwhere(flipped_img==1)\n",
    "\n",
    "flip_plot = pd.DataFrame(flip_coordinates, columns=['X','Y'])\n",
    "flip_plot.plot.scatter('X','Y')\"\"\""
   ]
  },
  {
   "cell_type": "code",
   "execution_count": null,
   "metadata": {},
   "outputs": [],
   "source": [
    "#90degree clockwise rotated image with sin-cos rotation matrix\n",
    "\n",
    "img_copy = np.array(coords[['X','Y']])\n",
    "#print(img_copy.shape)\n",
    "rot_matrix = np.array([[0,-1],\n",
    "              [1,0]])\n",
    "rot_img2 = img_copy.dot(rot_matrix)  #img_copy*rot_matrix  #np.multiply(img_copy,rot_matrix)\n",
    "\n",
    "newdf = pd.DataFrame(rot_img2,columns=['X','Y'])\n",
    "newdf['Y'] = newdf['Y'] - min(newdf['Y'])\n",
    "newdf.plot.scatter('X','Y')"
   ]
  },
  {
   "cell_type": "code",
   "execution_count": null,
   "metadata": {},
   "outputs": [],
   "source": [
    "\"\"\"#90degree clockwise rotated image with inverted identity rotation matrix\n",
    "\n",
    "rows, cols = img.shape\n",
    "transform_matrix = np.zeros(shape=(rows,cols))\n",
    "\n",
    "for i in range(rows):\n",
    "    transform_matrix[i][rows-i-1]=1\n",
    "rot_imgtest = img.dot(transform_matrix)\n",
    "\n",
    "rot_test = pd.DataFrame(rot_img2,columns=['X','Y'])\n",
    "rot_test['Y'] = rot_test['Y'] - min(rot_test['Y'])\n",
    "rot_test.plot.scatter('X','Y')\"\"\""
   ]
  },
  {
   "cell_type": "code",
   "execution_count": null,
   "metadata": {},
   "outputs": [],
   "source": [
    "#Horizontal flip image with inverted identity matrix\n",
    "\n",
    "rows, cols = img.shape\n",
    "transform_matrix = np.zeros(shape=(rows,cols))\n",
    "\n",
    "for i in range(rows):\n",
    "    transform_matrix[i][rows-i-1]=1\n",
    "\n",
    "flip_imgtest = transform_matrix.dot(img)  #np.transpose(img).dot(transform_matrix)\n",
    "flip_test = np.argwhere(flip_imgtest==1)\n",
    "flip_test = pd.DataFrame(flip_test,columns=['X','Y'])\n",
    "flip_test.plot.scatter('X','Y')"
   ]
  }
 ],
 "metadata": {
  "kernelspec": {
   "display_name": "Python 3",
   "language": "python",
   "name": "python3"
  },
  "language_info": {
   "codemirror_mode": {
    "name": "ipython",
    "version": 3
   },
   "file_extension": ".py",
   "mimetype": "text/x-python",
   "name": "python",
   "nbconvert_exporter": "python",
   "pygments_lexer": "ipython3",
   "version": "3.8.5"
  }
 },
 "nbformat": 4,
 "nbformat_minor": 2
}
